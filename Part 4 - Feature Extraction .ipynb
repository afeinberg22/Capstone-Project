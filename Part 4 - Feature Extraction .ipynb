{
 "cells": [
  {
   "cell_type": "markdown",
   "metadata": {},
   "source": [
    "# Tracking Depression and Suicidal Ideation in Social Media\n",
    "### Analysis and Dashboarding for tracking features associated with mental health risk\n",
    "# Part 4 - Text Classification; Suicidal ideation posts vs other mental health posts with feature extraction\n",
    "* ## The impact of adding in percentage of absolutist words used per post, sentiment, subjectivity, post length, and time of day posted\n",
    "\n",
    "### Table of Contents\n",
    "\n",
    "* <a href='#Part_1'> Abstract</a> \n",
    "* <a href='#Part_2'> Obtain & Scrub</a>   \n",
    "* <a href='#Part_3'> Model Training/Testing</a> \n",
    "* <a href='#Part_4'> Hyperparameter Optimization</a>\n",
    "* <a href='#Part_5'> Final Model</a>\n",
    "* <a href='#Part_6'> Feature Extraction</a>\n",
    "* <a href='#Part_7'> Conclusions</a>\n",
    "* <a href='#Part_8'> Future Work</a>"
   ]
  },
  {
   "cell_type": "code",
   "execution_count": 1,
   "metadata": {},
   "outputs": [
    {
     "name": "stdout",
     "output_type": "stream",
     "text": [
      "reddit connector created\n",
      "pillosoft connecting to reddit API\n",
      "mongo connector now created\n",
      "get stem abs list function created\n",
      "get lem abs list function created\n",
      "get stop words function has been created\n",
      "text cleaner function created\n",
      "get date function created\n",
      "submissions to mongo function created\n",
      "clean df function created\n",
      "get total word count function created\n",
      "get absolutist word count created\n",
      "get percentage of absolutist words function created\n",
      "get absolitist word count chart function created\n",
      "get post distribution function created\n",
      "get word cloud function created\n",
      "get clean text function created\n",
      "get perc distribution created\n",
      "get word frequency function created\n",
      "Cohens D function created\n",
      "mongo to df function created\n",
      "plot confusion matrix function created\n",
      "evaluate model function created\n",
      "get authors function created\n",
      "get author posts function created\n",
      "check exists function created\n",
      "date function created\n"
     ]
    },
    {
     "name": "stderr",
     "output_type": "stream",
     "text": [
      "Using TensorFlow backend.\n"
     ]
    }
   ],
   "source": [
    "#Importing Libraries\n",
    "import requests\n",
    "import nltk\n",
    "import json\n",
    "import time\n",
    "import pandas as pd\n",
    "import numpy as np\n",
    "import re\n",
    "import praw\n",
    "import prawcore\n",
    "import datetime as dt\n",
    "import matplotlib.pyplot as plt\n",
    "import scipy\n",
    "import pymongo\n",
    "import functions as functions\n",
    "import os\n",
    "import patsy as py\n",
    "import seaborn as sns\n",
    "import itertools\n",
    "import xgboost as xgb\n",
    "import tensorflow\n",
    "import sklearn\n",
    "import keras_metrics\n",
    "import shap\n",
    "import pickle\n",
    "\n",
    "from importlib import reload\n",
    "from numpy import mean, var\n",
    "from math import sqrt\n",
    "from os import path\n",
    "from pymongo import MongoClient, errors\n",
    "from pymongo.errors import InvalidDocument\n",
    "from patsy import dmatrices\n",
    "from textblob import TextBlob\n",
    "\n",
    "from nltk import word_tokenize, FreqDist\n",
    "from nltk.corpus import stopwords, wordnet\n",
    "from nltk.tokenize import RegexpTokenizer, word_tokenize\n",
    "from nltk.corpus.reader.wordnet import ADJ, ADJ_SAT, ADV, NOUN\n",
    "from nltk.stem.wordnet import WordNetLemmatizer\n",
    "from nltk.stem.porter import PorterStemmer\n",
    "\n",
    "from sklearn import preprocessing, svm, tree, model_selection\n",
    "from sklearn.utils import class_weight\n",
    "from sklearn.model_selection import train_test_split, GridSearchCV, StratifiedKFold, cross_val_score\n",
    "from sklearn.metrics import precision_score, recall_score, accuracy_score,precision_recall_fscore_support, auc\n",
    "from sklearn.metrics import f1_score, confusion_matrix, make_scorer, classification_report, roc_auc_score, SCORERS\n",
    "from sklearn.pipeline import Pipeline\n",
    "from sklearn.decomposition import PCA\n",
    "from sklearn.linear_model import LogisticRegression, LinearRegression, SGDClassifier                          \n",
    "from sklearn.ensemble import RandomForestClassifier, AdaBoostClassifier, GradientBoostingClassifier\n",
    "from sklearn.tree import DecisionTreeClassifier\n",
    "from sklearn.naive_bayes import MultinomialNB\n",
    "from sklearn.feature_extraction.text import TfidfVectorizer, CountVectorizer, TfidfTransformer\n",
    "\n",
    "\n",
    "from xgboost import XGBClassifier, plot_importance\n",
    "from wordcloud import WordCloud, STOPWORDS, ImageColorGenerator\n",
    "from gensim.models import Word2Vec\n",
    "from treeinterpreter import treeinterpreter as ti\n",
    "from shap import TreeExplainer\n",
    "\n",
    "from tensorflow.keras.callbacks import EarlyStopping, ReduceLROnPlateau, ModelCheckpoint\n",
    "from keras.preprocessing import text, sequence\n",
    "from keras.preprocessing.sequence import pad_sequences\n",
    "from keras_metrics import f1_score\n",
    "from keras.models import Model, Sequential\n",
    "from keras import initializers, regularizers, constraints, optimizers, layers\n",
    "from keras.layers import Dropout, Activation, Bidirectional, GlobalMaxPool1D, Input, Dense, LSTM, GRU, Embedding\n",
    "from keras import optimizers\n",
    "from gensim.models import Word2Vec\n",
    "from keras.preprocessing.text import Tokenizer\n",
    "from keras.preprocessing.sequence import pad_sequences\n",
    "from keras.layers import Dense, Input, Dropout, Activation, Conv1D, MaxPooling1D\n",
    "from keras.layers import GlobalMaxPool1D, GlobalMaxPooling1D\n",
    "from keras.models import Sequential\n",
    "from keras.callbacks import EarlyStopping\n",
    "from keras.optimizers import Adam, Nadam\n",
    "from keras.activations import relu, elu\n",
    "from keras.losses import categorical_crossentropy\n",
    "from keras.preprocessing.text import Tokenizer\n",
    "from keras.preprocessing.sequence import pad_sequences\n",
    "from keras import initializers, regularizers, constraints, optimizers, layers\n",
    "\n",
    "from functions import connect_to_reddit, connect_to_mongo, get_stem_abs, get_stop_words, text_cleaner, get_date;\n",
    "from functions import submissions_to_mongo, clean_df, get_tot_word, get_abs_word_count, get_perc_abs, cohend;\n",
    "from functions import get_abs_chart, get_post_distribution, wordcloud, clean_text, get_distribution, get_word_freq;\n",
    "from functions import evaluate, plot_confusion_matrix, get_authors, get_author_posts, check_exists, mongo_to_df;\n",
    "\n",
    "\n",
    "os.environ['KMP_DUPLICATE_LIB_OK']='True'\n",
    "import warnings\n",
    "warnings.filterwarnings('ignore')\n",
    "%matplotlib inline"
   ]
  },
  {
   "cell_type": "code",
   "execution_count": 2,
   "metadata": {},
   "outputs": [
    {
     "name": "stdout",
     "output_type": "stream",
     "text": [
      "now connected to mongo\n",
      "pillosoft connecting to reddit API\n"
     ]
    }
   ],
   "source": [
    "#connecting to mongo database\n",
    "client = connect_to_mongo()\n",
    "# connecting to reddit api\n",
    "reddit = connect_to_reddit()"
   ]
  },
  {
   "cell_type": "markdown",
   "metadata": {},
   "source": [
    "<a id='Part_1'></a>"
   ]
  },
  {
   "cell_type": "markdown",
   "metadata": {},
   "source": [
    "# Abstract\n",
    "Now that we have a functioning model, it would be helpful if we could extract some features from it. Since neural networks and classifiers don't readily provide us with their inner workings, we are going to have to do a little digging into our classifiers to get some insight.\n",
    "\n",
    "We are also going to add in some additional features I was able to scrape from reddit, or get on my own. This is where we circle back to absolutist words from the research paper we saw earlier. One feature we are going to add is the percentage of absolutist words used in the post. Another feature we can add is the time of day of the post. Additionally, we can look at sentiment and subjectivity, as well as overall post length. \n",
    "\n",
    "Let's see what we can find out!"
   ]
  },
  {
   "cell_type": "code",
   "execution_count": 3,
   "metadata": {},
   "outputs": [
    {
     "name": "stdout",
     "output_type": "stream",
     "text": [
      "stop words list length is now:\n",
      "179\n",
      "adding words from include list\n",
      "new words have been added, stop words list length is now:\n",
      "431\n",
      "removing exlude words\n",
      "exclude list words removed. stop words length is now:\n",
      "430\n"
     ]
    }
   ],
   "source": [
    "\n",
    "abs_word_list = ['absolutely', 'all', 'always', 'complete', 'completely', 'constant', 'constantly', 'definitely', \n",
    "                 'entire', 'ever', 'every', 'everyone', 'everything', 'full', 'must', 'never', 'nothing', \n",
    "                 'totally', 'whole']\n",
    "\n",
    "remove_words = [\"http\", \"https\", \"www\", \"com\", \"reddit\", \"jpg\", 'x', 'b', 'f', 'r', 'c', 'd', 'e', 'f', \n",
    "               'g', 'h', 'j', 'k', 'l', 'm', 'n', 'o', 'p', 'op', 'q', 's', 't', 'u', 'v', 'w', 'y', 'z',\n",
    "               '00', '01', '04', '10', '100', '1000', '1000mg', '100mg', '100x', '108', '10k', '10lbs', \n",
    "                '10pm', '10th', '10yo', '10yrs', '11', '119', '11am', '11d', '11th', '12', '120', '12g', \n",
    "                '12ga', '12ish', '13', '14', '140', '146', '15', '150', '150mg', '1549449839413', '15min', \n",
    "                '16', '160', '162', '16f', '16y', '17', '170', '17f', '17th', '17yo', '18', '180', '189', \n",
    "                '18months', '18th', '19', '1950', '1974', '1996', '19o', '19th', '1drl', '1k', '1mg', '1st', \n",
    "                '1x', '20', '200', '2000', '2003', '2007', '200mg', '2010', '2012', '2014', '2015', '2016', \n",
    "                '2017', '2018', '2019', '20mg', '20oz', '20th', '21', '215lbs', '22', '22m', '23', '2300', \n",
    "                '23andme', '24', '24hrs', '25', '250', '2500', '250mg', '258', '25mg', '25th', '26', '260lbs', \n",
    "                '26yo', '27', '270', '27th', '27year', '28', '28th', '29', '2ahukewiuracn9kbgahvb6kqkhy2ld', \n",
    "                '2am', '2l', '2lbs', '2mo', '2nd', '2wks', '2x', '2years', '2yrs', '30', '300', '3000', \n",
    "                '3000mg', '300mg', '304', '30th', '31', '310', '31st', '32', '325mg', '32oz', '33', '34', \n",
    "                '340', '35', '350', '357', '37', '38', '39', '3am', '3lb', '3mg', '3pm', '3rd', '3rds', '40', \n",
    "                '400', '40cl', '40km', '40lbs', '40mg', '40s', '40th', '42', '43m', '44', '45', '450', '48', \n",
    "                '48oz', '49', '4am', '4th', '50', '500', '500mg', '50mcg', '50mg', '50oz', '50s', '5150', '5600',\n",
    "                '5677676', '57', '5k', '5mg', '5pm', '5th', '60', '600', '600mg', '60k', '61', '63', '64', '6am',\n",
    "                '6mg', '6th', '6yrs', '70', '700', '70cl', '70s', '72', '75mg', '79558b7f', '7pm', '7t4ngdpbitq',\n",
    "                '7th', '80', '800', '8th', '90', '92', '95', '99', '9am', '9th', '___', '_a', '_anyone', '_be',\n",
    "                '_food', '_for', '_in', '_interested', '_me', '_tracker', 'aa', 'aans', 'like', 'anxieti', 'depression']\n",
    "\n",
    "pre_stop_words = list(stopwords.words(\"english\"))\n",
    "\n",
    "moderators = ['S2S2S2S2S2','Psy-Kosh','SicSemperHumanus','SQLwitch','UnDire','pkbooo','skyqween','MykeeB',\n",
    "              'circinia','svneko','MuffinMedic','remyschnitzel','vodkalimes','dwade333miami','anxietymods',\n",
    "              'BotBust','MrZalarox','Pi25','analemmaro', 'abhava-sunya','sofar1776','AccioInternets','palisade2621',\n",
    "              'Hermiones_Teaspoon','AweBeyCon','dancingonfire','midnightdragon','elbowsss','Chefjones','pezes',\n",
    "              'sulkee','Greypo','exoendo','Jakeable','MeghanAM','JoyousCacophony','hansjens47','Qu1nlan',\n",
    "              'english06','samplebitch','optimalg','rhiever','Geographist','frostickle','NonNonHeinous',\n",
    "              'Vizual-Statistix','sarahbotts','zonination','spermface','yelper','mungoflago','ostedog','rsrsrsrs',\n",
    "              'townie_immigrant','JoeAllan','theReluctantHipster','AutoModerator', 'iimsorryy','wanderlusterer',\n",
    "              'awaxa','dosman711','mmccullen','Ariensus','turtletechnology','cascer1','cluckj','adidushi',\n",
    "              'Muffinzz','IHaveTheBestCandy','crilen','Cerenkov_Blue', 'binarysneaker','vomita_conejitos','polezo']\n",
    "\n",
    "subreddit_list = ['suicidewatch', 'depression', 'anxiety',\n",
    "                  'diabetes', 'heartdisease', 'gout', 'copd',\n",
    "                  'travel', 'basketball', 'harrypotter']\n",
    "\n",
    "stem_abs = get_stem_abs(abs_word_list)\n",
    "\n",
    "stop_words = get_stop_words(remove_words, abs_word_list, pre_stop_words)"
   ]
  },
  {
   "cell_type": "markdown",
   "metadata": {},
   "source": [
    "<a id='Part_2'></a>"
   ]
  },
  {
   "cell_type": "markdown",
   "metadata": {},
   "source": [
    "# Obtain & Scrub"
   ]
  },
  {
   "cell_type": "code",
   "execution_count": 4,
   "metadata": {},
   "outputs": [],
   "source": [
    "# accessing collections\n",
    "reddit_db = client[\"reddit\"]\n",
    "reddit_submissions = reddit_db['submissions_for_author_analysis']\n",
    "suicide_redditors = reddit_db['suicide']\n",
    "dep_redditors = reddit_db['dep']\n",
    "anx_redditors = reddit_db['anx']\n",
    "gout_redditors = reddit_db['gout']\n",
    "db_redditors = reddit_db['db']\n",
    "copd_redditors = reddit_db['copd']\n",
    "htn_redditors = reddit_db['htn']\n",
    "trav_redditors = reddit_db['travel']\n",
    "bb_redditors = reddit_db['bb']\n",
    "hp_redditors = reddit_db['hp']"
   ]
  },
  {
   "cell_type": "code",
   "execution_count": 5,
   "metadata": {},
   "outputs": [],
   "source": [
    "# converting mongo db collections to dataframes\n",
    "suicide_df, anx_df, dep_df, gout_df, htn_df, copd_df, db_df, travel_df, bb_df, hp_df = (None,)*10\n",
    "suicide_df = mongo_to_df(suicide_df, suicide_redditors)\n",
    "anx_df = mongo_to_df(anx_df, anx_redditors)\n",
    "dep_df = mongo_to_df(dep_df, dep_redditors)\n",
    "gout_df = mongo_to_df(gout_df, gout_redditors)\n",
    "htn_df = mongo_to_df(htn_df, htn_redditors)\n",
    "copd_df = mongo_to_df(copd_df, copd_redditors)\n",
    "db_df = mongo_to_df(db_df, db_redditors)\n",
    "travel_df = mongo_to_df(travel_df, trav_redditors)\n",
    "bb_df = mongo_to_df(bb_df, bb_redditors)\n",
    "hp_df = mongo_to_df(hp_df, hp_redditors)"
   ]
  },
  {
   "cell_type": "code",
   "execution_count": 6,
   "metadata": {},
   "outputs": [],
   "source": [
    "# suicide reddit forum authors only, using the same authors' posts over all of reddit:\n",
    "s_df = suicide_df\n",
    "s_df.drop_duplicates(subset='cleaned_text', inplace=True)\n",
    "\n",
    "# anxiety/depression forum authors only, using the same authors' posts over all of reddit:\n",
    "df = pd.concat([anx_df, dep_df])\n",
    "df.drop_duplicates(subset='cleaned_text', inplace=True)\n",
    "\n",
    "# excluding those who are in the anxiety/depression group who have posted in the suicide forum:\n",
    "df = df[df.subreddit != 'SuicideWatch']\n",
    "\n",
    "# random sample to even out the groups:\n",
    "df = df.sample(n=2750)\n",
    "\n",
    "# labeling the groups \n",
    "df['labels'] = 0 # 0: Not suicidal\n",
    "s_df['labels'] = 1 # 1: Suicidal ideation\n",
    "\n",
    "# joining the dataframes\n",
    "final_df = pd.concat([s_df, df])\n",
    "final_df.drop_duplicates(subset='cleaned_text', inplace=True)\n",
    "class_names = set(final_df.labels)"
   ]
  },
  {
   "cell_type": "markdown",
   "metadata": {},
   "source": [
    "## Adding in features calculated from post characteristics:\n",
    "* ### Time of day - binned to morning, daytime, evening, and overnight\n",
    "* ### Percentage of Absolutist words used\n",
    "* ### Post Length\n",
    "* ### Sentiment\n",
    "* ### Subjectivity"
   ]
  },
  {
   "cell_type": "code",
   "execution_count": 7,
   "metadata": {},
   "outputs": [],
   "source": [
    "final_df['time_of_day'] = final_df['hour_posted'].map({0:'overnight',1:'overnight',2:'overnight',3:'overnight',\n",
    "                                                       4:'overnight',5:'overnight',6:'morning',7:'morning', \n",
    "                                                       8:'morning', 9:'morning',10:'daytime', 11:'daytime', \n",
    "                                                       12:'daytime', 13:'daytime', 14:'daytime',15:'daytime',\n",
    "                                                       16:'daytime',17:'evening',18:'evening',19:'evening',\n",
    "                                                       20:'evening',21:'evening',22:'overnight',23:'overnight',})\n",
    "cont_features = final_df[[\"percent_abs_words\", \"post_length\", \"sentiment\", \"subjectivity\"]]\n",
    "cat_features = final_df[[\"time_of_day\"]]\n",
    "dummies = pd.get_dummies(cat_features, columns=[\"time_of_day\"])"
   ]
  },
  {
   "cell_type": "code",
   "execution_count": 8,
   "metadata": {},
   "outputs": [],
   "source": [
    "names=cont_features.columns\n",
    "index = final_df.index\n",
    "#Scaling all continuous datapoints between 0-5\n",
    "scaler = preprocessing.MinMaxScaler(feature_range=(0,5))\n",
    "scaled_df = scaler.fit_transform(cont_features)\n",
    "cont_features = pd.DataFrame(scaled_df, columns=names, index=index)\n",
    "cont_features.rename(columns={\"sentiment\":\"_sentiment\"}, inplace=True)"
   ]
  },
  {
   "cell_type": "code",
   "execution_count": 9,
   "metadata": {},
   "outputs": [],
   "source": [
    "X = pd.concat([cont_features, dummies, final_df.cleaned_text], axis=1)\n",
    "y = final_df.labels"
   ]
  },
  {
   "cell_type": "code",
   "execution_count": 10,
   "metadata": {},
   "outputs": [],
   "source": [
    "# Count Vectorizing \n",
    "matrix = CountVectorizer(max_features=20000)\n",
    "x = matrix.fit_transform(X.cleaned_text)\n",
    "df_tr = pd.DataFrame(x.toarray(), columns=matrix.get_feature_names(), index=index)"
   ]
  },
  {
   "cell_type": "code",
   "execution_count": 11,
   "metadata": {},
   "outputs": [
    {
     "data": {
      "text/plain": [
       "1    2757\n",
       "0    2678\n",
       "Name: labels, dtype: int64"
      ]
     },
     "execution_count": 11,
     "metadata": {},
     "output_type": "execute_result"
    }
   ],
   "source": [
    "X = pd.concat([cont_features, dummies, df_tr], axis=1)\n",
    "class_names = set(y)\n",
    "y.value_counts()"
   ]
  },
  {
   "cell_type": "markdown",
   "metadata": {},
   "source": [
    "<a id='Part_3'></a>"
   ]
  },
  {
   "cell_type": "markdown",
   "metadata": {},
   "source": [
    "# Model Training/Testing"
   ]
  },
  {
   "cell_type": "code",
   "execution_count": 12,
   "metadata": {},
   "outputs": [],
   "source": [
    "X_train, X_test, y_train, y_test = train_test_split(X, y, train_size=0.6, test_size=0.4)"
   ]
  },
  {
   "cell_type": "code",
   "execution_count": 14,
   "metadata": {},
   "outputs": [],
   "source": [
    "# Multinomial Naive Bayes\n",
    "nb_classifier = MultinomialNB()\n",
    "nb_classifier = nb_classifier.fit(X_train, y_train)\n",
    "nb_train_preds = nb_classifier.predict(X_train)\n",
    "nb_test_preds = nb_classifier.predict(X_test)"
   ]
  },
  {
   "cell_type": "code",
   "execution_count": 15,
   "metadata": {},
   "outputs": [],
   "source": [
    "# XGBoost Classifier\n",
    "xgb_classifier = XGBClassifier()\n",
    "xgb_classifier = xgb_classifier.fit(X_train, y_train)\n",
    "xgb_train_preds = xgb_classifier.predict(X_train)\n",
    "xgb_test_preds = xgb_classifier.predict(X_test)"
   ]
  },
  {
   "cell_type": "markdown",
   "metadata": {},
   "source": [
    "### Results..."
   ]
  },
  {
   "cell_type": "code",
   "execution_count": 16,
   "metadata": {
    "scrolled": false
   },
   "outputs": [
    {
     "name": "stdout",
     "output_type": "stream",
     "text": [
      "Multinomial Naive Bayes\n",
      "\n",
      "Training Precision:  0.8008497079129049\n",
      "Testing Precision:  0.6193181818181818\n",
      "\n",
      "\n",
      "\n",
      "Training Recall:  0.9057057057057057\n",
      "Testing Recall:  0.6987179487179487\n",
      "\n",
      "\n",
      "\n",
      "Training Accuracy:  0.8368598589389757\n",
      "Testing Accuracy:  0.6329346826126955\n",
      "\n",
      "\n",
      "\n",
      "Training F1 Score:  0.8500563697857948\n",
      "Testing F1 Score:  0.6566265060240963\n",
      "\n",
      "\n",
      "\n",
      "Confusion matrix, without normalization\n"
     ]
    },
    {
     "data": {
      "image/png": "[encoded data removed]",
      "text/plain": [
       "<Figure size 432x288 with 2 Axes>"
      ]
     },
     "metadata": {
      "needs_background": "light"
     },
     "output_type": "display_data"
    },
    {
     "name": "stdout",
     "output_type": "stream",
     "text": [
      "\n",
      "\n",
      "\n",
      "Normalized confusion matrix\n"
     ]
    },
    {
     "data": {
      "image/png": "[encoded data removed]",
      "text/plain": [
       "<Figure size 432x288 with 2 Axes>"
      ]
     },
     "metadata": {
      "needs_background": "light"
     },
     "output_type": "display_data"
    },
    {
     "name": "stdout",
     "output_type": "stream",
     "text": [
      "----------------------------------------------------------------------\n",
      "\n",
      "XGB Classifier\n",
      "\n",
      "Training Precision:  0.7633175994605529\n",
      "Testing Precision:  0.6487341772151899\n",
      "\n",
      "\n",
      "\n",
      "Training Recall:  0.6798798798798799\n",
      "Testing Recall:  0.5631868131868132\n",
      "\n",
      "\n",
      "\n",
      "Training Accuracy:  0.728917509966268\n",
      "Testing Accuracy:  0.6274149034038639\n",
      "\n",
      "\n",
      "\n",
      "Training F1 Score:  0.7191867852604829\n",
      "Testing F1 Score:  0.6029411764705882\n",
      "\n",
      "\n",
      "\n",
      "Confusion matrix, without normalization\n"
     ]
    },
    {
     "data": {
      "image/png": "[encoded data removed]",
      "text/plain": [
       "<Figure size 432x288 with 2 Axes>"
      ]
     },
     "metadata": {
      "needs_background": "light"
     },
     "output_type": "display_data"
    },
    {
     "name": "stdout",
     "output_type": "stream",
     "text": [
      "\n",
      "\n",
      "\n",
      "Normalized confusion matrix\n"
     ]
    },
    {
     "data": {
      "image/png": "[encoded data removed]",
      "text/plain": [
       "<Figure size 432x288 with 2 Axes>"
      ]
     },
     "metadata": {
      "needs_background": "light"
     },
     "output_type": "display_data"
    },
    {
     "name": "stdout",
     "output_type": "stream",
     "text": [
      "----------------------------------------------------------------------\n"
     ]
    }
   ],
   "source": [
    "print(\"Multinomial Naive Bayes\")\n",
    "print(\"\")\n",
    "evaluate(y_train, nb_train_preds, y_test, nb_test_preds, class_names=class_names)\n",
    "print('-'*70)\n",
    "print(\"\")\n",
    "print('XGB Classifier')\n",
    "print(\"\")\n",
    "evaluate(y_train, xgb_train_preds, y_test, xgb_test_preds, class_names=class_names)\n",
    "print('-'*70)"
   ]
  },
  {
   "cell_type": "markdown",
   "metadata": {},
   "source": [
    "<a id='Part_4'></a>"
   ]
  },
  {
   "cell_type": "markdown",
   "metadata": {},
   "source": [
    "# Hyperparameter Tuning and Optimization"
   ]
  },
  {
   "cell_type": "code",
   "execution_count": 17,
   "metadata": {},
   "outputs": [],
   "source": [
    "#pipeline to pass to gridsearch\n",
    "pipe_mnb = Pipeline([('mnb', MultinomialNB())])\n",
    "#parameters to pass to gridsearch\n",
    "grid_params = {'mnb__alpha': np.linspace(0.5, 1.5, 3),\n",
    "               'mnb__fit_prior': [True, False]}"
   ]
  },
  {
   "cell_type": "code",
   "execution_count": 19,
   "metadata": {},
   "outputs": [
    {
     "name": "stdout",
     "output_type": "stream",
     "text": [
      "Fitting 3 folds for each of 6 candidates, totalling 18 fits\n",
      "[CV] mnb__alpha=0.5, mnb__fit_prior=True .............................\n"
     ]
    },
    {
     "name": "stderr",
     "output_type": "stream",
     "text": [
      "[Parallel(n_jobs=1)]: Using backend SequentialBackend with 1 concurrent workers.\n"
     ]
    },
    {
     "name": "stdout",
     "output_type": "stream",
     "text": [
      "[CV] .............. mnb__alpha=0.5, mnb__fit_prior=True, total=   0.8s\n",
      "[CV] mnb__alpha=0.5, mnb__fit_prior=True .............................\n"
     ]
    },
    {
     "name": "stderr",
     "output_type": "stream",
     "text": [
      "[Parallel(n_jobs=1)]: Done   1 out of   1 | elapsed:    1.2s remaining:    0.0s\n"
     ]
    },
    {
     "name": "stdout",
     "output_type": "stream",
     "text": [
      "[CV] .............. mnb__alpha=0.5, mnb__fit_prior=True, total=   0.6s\n",
      "[CV] mnb__alpha=0.5, mnb__fit_prior=True .............................\n",
      "[CV] .............. mnb__alpha=0.5, mnb__fit_prior=True, total=   0.6s\n",
      "[CV] mnb__alpha=0.5, mnb__fit_prior=False ............................\n",
      "[CV] ............. mnb__alpha=0.5, mnb__fit_prior=False, total=   0.5s\n",
      "[CV] mnb__alpha=0.5, mnb__fit_prior=False ............................\n",
      "[CV] ............. mnb__alpha=0.5, mnb__fit_prior=False, total=   0.7s\n",
      "[CV] mnb__alpha=0.5, mnb__fit_prior=False ............................\n",
      "[CV] ............. mnb__alpha=0.5, mnb__fit_prior=False, total=   0.6s\n",
      "[CV] mnb__alpha=1.0, mnb__fit_prior=True .............................\n",
      "[CV] .............. mnb__alpha=1.0, mnb__fit_prior=True, total=   0.5s\n",
      "[CV] mnb__alpha=1.0, mnb__fit_prior=True .............................\n",
      "[CV] .............. mnb__alpha=1.0, mnb__fit_prior=True, total=   0.5s\n",
      "[CV] mnb__alpha=1.0, mnb__fit_prior=True .............................\n",
      "[CV] .............. mnb__alpha=1.0, mnb__fit_prior=True, total=   0.5s\n",
      "[CV] mnb__alpha=1.0, mnb__fit_prior=False ............................\n",
      "[CV] ............. mnb__alpha=1.0, mnb__fit_prior=False, total=   0.5s\n",
      "[CV] mnb__alpha=1.0, mnb__fit_prior=False ............................\n",
      "[CV] ............. mnb__alpha=1.0, mnb__fit_prior=False, total=   0.5s\n",
      "[CV] mnb__alpha=1.0, mnb__fit_prior=False ............................\n",
      "[CV] ............. mnb__alpha=1.0, mnb__fit_prior=False, total=   0.5s\n",
      "[CV] mnb__alpha=1.5, mnb__fit_prior=True .............................\n",
      "[CV] .............. mnb__alpha=1.5, mnb__fit_prior=True, total=   0.5s\n",
      "[CV] mnb__alpha=1.5, mnb__fit_prior=True .............................\n",
      "[CV] .............. mnb__alpha=1.5, mnb__fit_prior=True, total=   0.5s\n",
      "[CV] mnb__alpha=1.5, mnb__fit_prior=True .............................\n",
      "[CV] .............. mnb__alpha=1.5, mnb__fit_prior=True, total=   0.6s\n",
      "[CV] mnb__alpha=1.5, mnb__fit_prior=False ............................\n",
      "[CV] ............. mnb__alpha=1.5, mnb__fit_prior=False, total=   0.6s\n",
      "[CV] mnb__alpha=1.5, mnb__fit_prior=False ............................\n",
      "[CV] ............. mnb__alpha=1.5, mnb__fit_prior=False, total=   0.5s\n",
      "[CV] mnb__alpha=1.5, mnb__fit_prior=False ............................\n",
      "[CV] ............. mnb__alpha=1.5, mnb__fit_prior=False, total=   0.7s\n"
     ]
    },
    {
     "name": "stderr",
     "output_type": "stream",
     "text": [
      "[Parallel(n_jobs=1)]: Done  18 out of  18 | elapsed:   15.8s finished\n"
     ]
    },
    {
     "name": "stdout",
     "output_type": "stream",
     "text": [
      "Best Score:  0.7165165165165165\n",
      "Best Params:  {'mnb__alpha': 1.5, 'mnb__fit_prior': True}\n"
     ]
    }
   ],
   "source": [
    "# Utilizing GridSearchCV to scan all parameters and evaluate classifier performance with each parameter passed\n",
    "gs = GridSearchCV(estimator=pipe_mnb, param_grid=grid_params, scoring='recall', cv=3, verbose=0, return_train_score = True)\n",
    "gs.fit(X_train, y_train)\n",
    "print(\"Best Score: \", gs.best_score_)\n",
    "print(\"Best Params: \", gs.best_params_)"
   ]
  },
  {
   "cell_type": "code",
   "execution_count": 20,
   "metadata": {},
   "outputs": [],
   "source": [
    "#implementing above parameters from gridsearch to our pipeline:\n",
    "nb_classifier = MultinomialNB(alpha=1.5, fit_prior=True)\n",
    "nb_classifier = nb_classifier.fit(X_train, y_train)\n",
    "nb_train_preds = nb_classifier.predict(X_train)\n",
    "nb_test_preds = nb_classifier.predict(X_test)"
   ]
  },
  {
   "cell_type": "code",
   "execution_count": 23,
   "metadata": {},
   "outputs": [],
   "source": [
    "#implementing above parameters from gridsearch to our pipeline:\n",
    "xgb_classifier = XGBClassifier(learning_rate=0.05, gamma=0.5, scale_pos_weight=1.2)\n",
    "xgb_classifier = xgb_classifier.fit(X_train, y_train)\n",
    "xgb_train_preds = xgb_classifier.predict(X_train)\n",
    "xgb_test_preds = xgb_classifier.predict(X_test)"
   ]
  },
  {
   "cell_type": "markdown",
   "metadata": {},
   "source": [
    "### Results..."
   ]
  },
  {
   "cell_type": "code",
   "execution_count": 24,
   "metadata": {
    "scrolled": false
   },
   "outputs": [
    {
     "name": "stdout",
     "output_type": "stream",
     "text": [
      "Multinomial Naive Bayes\n",
      "\n",
      "Training Precision:  0.7894179894179895\n",
      "Testing Precision:  0.6185483870967742\n",
      "\n",
      "\n",
      "\n",
      "Training Recall:  0.8960960960960961\n",
      "Testing Recall:  0.7023809523809523\n",
      "\n",
      "\n",
      "\n",
      "Training Accuracy:  0.8249003373198406\n",
      "Testing Accuracy:  0.6329346826126955\n",
      "\n",
      "\n",
      "\n",
      "Training F1 Score:  0.839381153305204\n",
      "Testing F1 Score:  0.6578044596912521\n",
      "\n",
      "\n",
      "\n",
      "Confusion matrix, without normalization\n"
     ]
    },
    {
     "data": {
      "image/png": "[encoded data removed]",
      "text/plain": [
       "<Figure size 432x288 with 2 Axes>"
      ]
     },
     "metadata": {
      "needs_background": "light"
     },
     "output_type": "display_data"
    },
    {
     "name": "stdout",
     "output_type": "stream",
     "text": [
      "\n",
      "\n",
      "\n",
      "Normalized confusion matrix\n"
     ]
    },
    {
     "data": {
      "image/png": "[encoded data removed]",
      "text/plain": [
       "<Figure size 432x288 with 2 Axes>"
      ]
     },
     "metadata": {
      "needs_background": "light"
     },
     "output_type": "display_data"
    },
    {
     "name": "stdout",
     "output_type": "stream",
     "text": [
      "----------------------------------------------------------------------\n",
      "\n",
      "XGB Classifier\n",
      "\n",
      "Training Precision:  0.6299447043811144\n",
      "Testing Precision:  0.5518518518518518\n",
      "\n",
      "\n",
      "\n",
      "Training Recall:  0.8894894894894895\n",
      "Testing Recall:  0.8186813186813187\n",
      "\n",
      "\n",
      "\n",
      "Training Accuracy:  0.6767862618828581\n",
      "Testing Accuracy:  0.5749770009199632\n",
      "\n",
      "\n",
      "\n",
      "Training F1 Score:  0.7375498007968128\n",
      "Testing F1 Score:  0.65929203539823\n",
      "\n",
      "\n",
      "\n",
      "Confusion matrix, without normalization\n"
     ]
    },
    {
     "data": {
      "image/png": "[encoded data removed]",
      "text/plain": [
       "<Figure size 432x288 with 2 Axes>"
      ]
     },
     "metadata": {
      "needs_background": "light"
     },
     "output_type": "display_data"
    },
    {
     "name": "stdout",
     "output_type": "stream",
     "text": [
      "\n",
      "\n",
      "\n",
      "Normalized confusion matrix\n"
     ]
    },
    {
     "data": {
      "image/png": "[encoded data removed]",
      "text/plain": [
       "<Figure size 432x288 with 2 Axes>"
      ]
     },
     "metadata": {
      "needs_background": "light"
     },
     "output_type": "display_data"
    },
    {
     "name": "stdout",
     "output_type": "stream",
     "text": [
      "----------------------------------------------------------------------\n"
     ]
    }
   ],
   "source": [
    "print(\"Multinomial Naive Bayes\")\n",
    "print(\"\")\n",
    "evaluate(y_train, nb_train_preds, y_test, nb_test_preds, class_names=class_names)\n",
    "print('-'*70)\n",
    "print(\"\")\n",
    "print('XGB Classifier')\n",
    "print(\"\")\n",
    "evaluate(y_train, xgb_train_preds, y_test, xgb_test_preds, class_names=class_names)\n",
    "print('-'*70)"
   ]
  },
  {
   "cell_type": "markdown",
   "metadata": {},
   "source": [
    "It's not perfect but it is pretty impressive considering the raw dataset we are working with and the absence of reliable labels"
   ]
  },
  {
   "cell_type": "markdown",
   "metadata": {},
   "source": [
    "<a id='Part_5'></a>"
   ]
  },
  {
   "cell_type": "markdown",
   "metadata": {},
   "source": [
    "# Final Model\n",
    "### Saving final model to pickle"
   ]
  },
  {
   "cell_type": "code",
   "execution_count": 27,
   "metadata": {},
   "outputs": [],
   "source": [
    "\n",
    "# Dump the trained decision tree classifier with Pickle\n",
    "fc_pkl_filename = 'final_classifier.pkl'\n",
    "# Open the file to save as pkl file\n",
    "fc_model_pkl = open(fc_pkl_filename, 'wb')\n",
    "pickle.dump(nb_classifier, fc_model_pkl)\n",
    "# Close the pickle instances\n",
    "fc_model_pkl.close()"
   ]
  },
  {
   "cell_type": "markdown",
   "metadata": {},
   "source": [
    "<a id='Part_6'></a>"
   ]
  },
  {
   "cell_type": "markdown",
   "metadata": {},
   "source": [
    "## Feature Extraction"
   ]
  },
  {
   "cell_type": "code",
   "execution_count": 33,
   "metadata": {},
   "outputs": [
    {
     "data": {
      "image/png": "[encoded data removed]",
      "text/plain": [
       "<Figure size 432x288 with 1 Axes>"
      ]
     },
     "metadata": {
      "needs_background": "light"
     },
     "output_type": "display_data"
    }
   ],
   "source": [
    "to_plot = plot_importance(xgb_classifier, importance_type='gain', max_num_features=10)\n",
    "plt.show()\n",
    "#The Gain is the most relevant attribute to interpret the relative importance of each feature.\n",
    "#The Gain implies the relative contribution of the corresponding feature to the model calculated by \n",
    "#taking each feature’s contribution for each tree in the model. \n",
    "#A higher value of this metric when compared to another feature implies it is \n",
    "#more important for generating a prediction."
   ]
  },
  {
   "cell_type": "code",
   "execution_count": 34,
   "metadata": {},
   "outputs": [
    {
     "data": {
      "image/png": "[encoded data removed]",
      "text/plain": [
       "<Figure size 576x396 with 2 Axes>"
      ]
     },
     "metadata": {
      "needs_background": "light"
     },
     "output_type": "display_data"
    }
   ],
   "source": [
    "#Using Shap Tree Explainer to show impact of features on model output\n",
    "shap_vals=shap.TreeExplainer(xgb_classifier).shap_values(X_train)\n",
    "shap.summary_plot(shap_vals, X_train, max_display=10)"
   ]
  },
  {
   "cell_type": "markdown",
   "metadata": {},
   "source": [
    "## Important Features\n",
    "* \"anxiety\"\n",
    "* \"suicide\"\n",
    "* \"life\"\n",
    "* \"die\"\n",
    "* \"kill\"\n",
    "* \"anymore\"\n",
    "* Post Length - shorter contributed to more suicidal posts\n",
    "* \"live\"\n",
    "* \"fuck\"\n",
    "* Percentage Absolutist Words used - Higher percentage contributed to more suicidal posts\n"
   ]
  },
  {
   "cell_type": "markdown",
   "metadata": {},
   "source": [
    "<a id='Part_7'></a>"
   ]
  },
  {
   "cell_type": "markdown",
   "metadata": {},
   "source": [
    "# Conclusions"
   ]
  },
  {
   "cell_type": "markdown",
   "metadata": {},
   "source": [
    "* As suspected, percentage of absolutist words used is a top contributor for determining suicidal ideation posts\n",
    "* We also leanred that post length is an important feature as well\n",
    "* Our model is surprisingly effective given the limited scope and reliability of our webscraped dataset\n",
    "* With access to actual clinical data, this model can improve vastly\n",
    "* Patients, clinicians and family members stand to benefit from a classification tool that identifies mental health risk such as suicidal ideation"
   ]
  },
  {
   "cell_type": "markdown",
   "metadata": {},
   "source": [
    "<a id='Part_8'></a>"
   ]
  },
  {
   "cell_type": "markdown",
   "metadata": {},
   "source": [
    "# Future Work"
   ]
  },
  {
   "cell_type": "markdown",
   "metadata": {},
   "source": [
    "* Dashboard for clinicians to track progress and monitor patients in real time\n",
    "* Increased amount of data for better results\n",
    "* Increased processing ability for faster training and better results\n",
    "* Additional feature identification for better classification\n",
    "* Address privacy concerns regarding use of text data for patients"
   ]
  }
 ],
 "metadata": {
  "kernelspec": {
   "display_name": "Python 3",
   "language": "python",
   "name": "python3"
  },
  "language_info": {
   "codemirror_mode": {
    "name": "ipython",
    "version": 3
   },
   "file_extension": ".py",
   "mimetype": "text/x-python",
   "name": "python",
   "nbconvert_exporter": "python",
   "pygments_lexer": "ipython3",
   "version": "3.7.2"
  }
 },
 "nbformat": 4,
 "nbformat_minor": 2
}
